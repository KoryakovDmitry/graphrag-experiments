{
 "cells": [
  {
   "cell_type": "code",
   "execution_count": 1,
   "metadata": {},
   "outputs": [
    {
     "data": {
      "text/plain": [
       "'\\nCopyright (c) Microsoft Corporation.\\n'"
      ]
     },
     "execution_count": 1,
     "metadata": {},
     "output_type": "execute_result"
    }
   ],
   "source": [
    "# Copyright (c) 2024 Microsoft Corporation.\n",
    "# Licensed under the MIT License."
   ]
  },
  {
   "cell_type": "code",
   "outputs": [
    {
     "data": {
      "text/plain": "True"
     },
     "execution_count": 12,
     "metadata": {},
     "output_type": "execute_result"
    }
   ],
   "source": [
    "from dotenv import load_dotenv\n",
    "load_dotenv()"
   ],
   "metadata": {
    "collapsed": false,
    "ExecuteTime": {
     "end_time": "2024-07-12T10:21:45.639137Z",
     "start_time": "2024-07-12T10:21:45.630984Z"
    }
   },
   "execution_count": 12
  },
  {
   "cell_type": "code",
   "execution_count": 13,
   "metadata": {
    "ExecuteTime": {
     "end_time": "2024-07-12T10:21:46.025761Z",
     "start_time": "2024-07-12T10:21:46.023821Z"
    }
   },
   "outputs": [],
   "source": [
    "import os\n",
    "\n",
    "import pandas as pd\n",
    "import tiktoken\n",
    "\n",
    "from graphrag.query.indexer_adapters import read_indexer_entities, read_indexer_reports\n",
    "from graphrag.query.llm.oai.chat_openai import ChatOpenAI\n",
    "from graphrag.query.llm.oai.typing import OpenaiApiType\n",
    "from graphrag.query.structured_search.global_search.community_context import (\n",
    "    GlobalCommunityContext,\n",
    ")\n",
    "from graphrag.query.structured_search.global_search.search import GlobalSearch"
   ]
  },
  {
   "cell_type": "markdown",
   "metadata": {},
   "source": [
    "## Global Search example\n",
    "\n",
    "Global search method generates answers by searching over all AI-generated community reports in a map-reduce fashion. This is a resource-intensive method, but often gives good responses for questions that require an understanding of the dataset as a whole (e.g. What are the most significant values of the herbs mentioned in this notebook?)."
   ]
  },
  {
   "cell_type": "markdown",
   "metadata": {},
   "source": [
    "### LLM setup"
   ]
  },
  {
   "cell_type": "code",
   "execution_count": 14,
   "metadata": {
    "ExecuteTime": {
     "end_time": "2024-07-12T10:21:48.139969Z",
     "start_time": "2024-07-12T10:21:48.099815Z"
    }
   },
   "outputs": [],
   "source": [
    "api_key = os.environ[\"OPENAI_API_KEY\"]\n",
    "llm_model = \"gpt-4o\"\n",
    "embedding_model = \"text-embedding-3-small\"\n",
    "\n",
    "llm = ChatOpenAI(\n",
    "    api_key=api_key,\n",
    "    model=llm_model,\n",
    "    api_type=OpenaiApiType.OpenAI,  # OpenaiApiType.OpenAI or OpenaiApiType.AzureOpenAI\n",
    "    max_retries=20,\n",
    ")\n",
    "\n",
    "token_encoder = tiktoken.get_encoding(\"cl100k_base\")"
   ]
  },
  {
   "cell_type": "markdown",
   "metadata": {},
   "source": [
    "### Load community reports as context for global search\n",
    "\n",
    "- Load all community reports in the `create_final_community_reports` table from the ire-indexing engine, to be used as context data for global search.\n",
    "- Load entities from the `create_final_nodes` and `create_final_entities` tables from the ire-indexing engine, to be used for calculating community weights for context ranking. Note that this is optional (if no entities are provided, we will not calculate community weights and only use the `rank` attribute in the community reports table for context ranking)"
   ]
  },
  {
   "cell_type": "code",
   "execution_count": 15,
   "metadata": {
    "ExecuteTime": {
     "end_time": "2024-07-12T10:21:49.499978Z",
     "start_time": "2024-07-12T10:21:49.498213Z"
    }
   },
   "outputs": [],
   "source": [
    "# parquet files generated from indexing pipeline\n",
    "INPUT_DIR = \"/Users/dmitrii.koriakov/PycharmProjects/graphrag-experiments/examples/my_workflow/output/20240712-120400/artifacts\"\n",
    "COMMUNITY_REPORT_TABLE = \"create_final_community_reports\"\n",
    "ENTITY_TABLE = \"create_final_nodes\"\n",
    "ENTITY_EMBEDDING_TABLE = \"create_final_entities\"\n",
    "\n",
    "# community level in the Leiden community hierarchy from which we will load the community reports\n",
    "# higher value means we use reports from more fine-grained communities (at the cost of higher computation cost)\n",
    "COMMUNITY_LEVEL = 2"
   ]
  },
  {
   "cell_type": "code",
   "execution_count": 16,
   "metadata": {
    "ExecuteTime": {
     "end_time": "2024-07-12T10:21:51.158209Z",
     "start_time": "2024-07-12T10:21:50.873918Z"
    }
   },
   "outputs": [
    {
     "name": "stderr",
     "output_type": "stream",
     "text": [
      "/Users/dmitrii.koriakov/PycharmProjects/graphrag-experiments/graphrag/query/indexer_adapters.py:71: SettingWithCopyWarning: \n",
      "A value is trying to be set on a copy of a slice from a DataFrame.\n",
      "Try using .loc[row_indexer,col_indexer] = value instead\n",
      "\n",
      "See the caveats in the documentation: https://pandas.pydata.org/pandas-docs/stable/user_guide/indexing.html#returning-a-view-versus-a-copy\n",
      "  entity_df[\"community\"] = entity_df[\"community\"].fillna(-1)\n",
      "/Users/dmitrii.koriakov/PycharmProjects/graphrag-experiments/graphrag/query/indexer_adapters.py:72: SettingWithCopyWarning: \n",
      "A value is trying to be set on a copy of a slice from a DataFrame.\n",
      "Try using .loc[row_indexer,col_indexer] = value instead\n",
      "\n",
      "See the caveats in the documentation: https://pandas.pydata.org/pandas-docs/stable/user_guide/indexing.html#returning-a-view-versus-a-copy\n",
      "  entity_df[\"community\"] = entity_df[\"community\"].astype(int)\n"
     ]
    },
    {
     "name": "stdout",
     "output_type": "stream",
     "text": [
      "Report records: 435\n"
     ]
    },
    {
     "data": {
      "text/plain": "  community                                       full_content  level  rank  \\\n0       406  # Ford Puma ST-Line V and Related Features\\n\\n...      3   7.5   \n1       407  # Ford Puma Features: Multimedia Interface and...      3   7.5   \n2       408  # Android Auto Integration in Various Car Mode...      3   7.5   \n3       409  # Apple CarPlay Integration in Various Car Mod...      3   7.5   \n4       410  # 10.0-Inch Multimedia Touchscreen System and ...      3   6.5   \n\n                                               title  \\\n0           Ford Puma ST-Line V and Related Features   \n1  Ford Puma Features: Multimedia Interface and W...   \n2     Android Auto Integration in Various Car Models   \n3    Apple CarPlay Integration in Various Car Models   \n4  10.0-Inch Multimedia Touchscreen System and Co...   \n\n                                    rank_explanation  \\\n0  The impact severity rating is high due to the ...   \n1  The impact severity rating is high due to the ...   \n2  The impact severity rating is high due to the ...   \n3  The impact severity rating is high due to the ...   \n4  The impact severity rating is moderate due to ...   \n\n                                             summary  \\\n0  The community revolves around the Ford Puma ST...   \n1  The community revolves around the Ford Puma, s...   \n2  The community revolves around the Android Auto...   \n3  The community revolves around the integration ...   \n4  The community revolves around the 10.0-inch mu...   \n\n                                            findings  \\\n0  [{'explanation': 'The ST-Line V is a higher tr...   \n1  [{'explanation': 'The Multimedia Interface is ...   \n2  [{'explanation': 'Android Auto is a feature th...   \n3  [{'explanation': 'Apple CarPlay is widely adop...   \n4  [{'explanation': 'The 10.0-inch multimedia tou...   \n\n                                   full_content_json  \\\n0  {\\n    \"title\": \"Ford Puma ST-Line V and Relat...   \n1  {\\n    \"title\": \"Ford Puma Features: Multimedi...   \n2  {\\n    \"title\": \"Android Auto Integration in V...   \n3  {\\n    \"title\": \"Apple CarPlay Integration in ...   \n4  {\\n    \"title\": \"10.0-Inch Multimedia Touchscr...   \n\n                                     id  \n0  694533a1-4279-42e7-8dfd-f3cc646ed8c3  \n1  1ace0aeb-ac84-48bf-af3a-c829eb60ce19  \n2  7e8f1ce0-97aa-455e-863e-7b2e3f90685d  \n3  fec229fd-8c69-4af8-9387-bdc310ba34a7  \n4  d564ea36-4230-4981-8775-e682d9475c3f  ",
      "text/html": "<div>\n<style scoped>\n    .dataframe tbody tr th:only-of-type {\n        vertical-align: middle;\n    }\n\n    .dataframe tbody tr th {\n        vertical-align: top;\n    }\n\n    .dataframe thead th {\n        text-align: right;\n    }\n</style>\n<table border=\"1\" class=\"dataframe\">\n  <thead>\n    <tr style=\"text-align: right;\">\n      <th></th>\n      <th>community</th>\n      <th>full_content</th>\n      <th>level</th>\n      <th>rank</th>\n      <th>title</th>\n      <th>rank_explanation</th>\n      <th>summary</th>\n      <th>findings</th>\n      <th>full_content_json</th>\n      <th>id</th>\n    </tr>\n  </thead>\n  <tbody>\n    <tr>\n      <th>0</th>\n      <td>406</td>\n      <td># Ford Puma ST-Line V and Related Features\\n\\n...</td>\n      <td>3</td>\n      <td>7.5</td>\n      <td>Ford Puma ST-Line V and Related Features</td>\n      <td>The impact severity rating is high due to the ...</td>\n      <td>The community revolves around the Ford Puma ST...</td>\n      <td>[{'explanation': 'The ST-Line V is a higher tr...</td>\n      <td>{\\n    \"title\": \"Ford Puma ST-Line V and Relat...</td>\n      <td>694533a1-4279-42e7-8dfd-f3cc646ed8c3</td>\n    </tr>\n    <tr>\n      <th>1</th>\n      <td>407</td>\n      <td># Ford Puma Features: Multimedia Interface and...</td>\n      <td>3</td>\n      <td>7.5</td>\n      <td>Ford Puma Features: Multimedia Interface and W...</td>\n      <td>The impact severity rating is high due to the ...</td>\n      <td>The community revolves around the Ford Puma, s...</td>\n      <td>[{'explanation': 'The Multimedia Interface is ...</td>\n      <td>{\\n    \"title\": \"Ford Puma Features: Multimedi...</td>\n      <td>1ace0aeb-ac84-48bf-af3a-c829eb60ce19</td>\n    </tr>\n    <tr>\n      <th>2</th>\n      <td>408</td>\n      <td># Android Auto Integration in Various Car Mode...</td>\n      <td>3</td>\n      <td>7.5</td>\n      <td>Android Auto Integration in Various Car Models</td>\n      <td>The impact severity rating is high due to the ...</td>\n      <td>The community revolves around the Android Auto...</td>\n      <td>[{'explanation': 'Android Auto is a feature th...</td>\n      <td>{\\n    \"title\": \"Android Auto Integration in V...</td>\n      <td>7e8f1ce0-97aa-455e-863e-7b2e3f90685d</td>\n    </tr>\n    <tr>\n      <th>3</th>\n      <td>409</td>\n      <td># Apple CarPlay Integration in Various Car Mod...</td>\n      <td>3</td>\n      <td>7.5</td>\n      <td>Apple CarPlay Integration in Various Car Models</td>\n      <td>The impact severity rating is high due to the ...</td>\n      <td>The community revolves around the integration ...</td>\n      <td>[{'explanation': 'Apple CarPlay is widely adop...</td>\n      <td>{\\n    \"title\": \"Apple CarPlay Integration in ...</td>\n      <td>fec229fd-8c69-4af8-9387-bdc310ba34a7</td>\n    </tr>\n    <tr>\n      <th>4</th>\n      <td>410</td>\n      <td># 10.0-Inch Multimedia Touchscreen System and ...</td>\n      <td>3</td>\n      <td>6.5</td>\n      <td>10.0-Inch Multimedia Touchscreen System and Co...</td>\n      <td>The impact severity rating is moderate due to ...</td>\n      <td>The community revolves around the 10.0-inch mu...</td>\n      <td>[{'explanation': 'The 10.0-inch multimedia tou...</td>\n      <td>{\\n    \"title\": \"10.0-Inch Multimedia Touchscr...</td>\n      <td>d564ea36-4230-4981-8775-e682d9475c3f</td>\n    </tr>\n  </tbody>\n</table>\n</div>"
     },
     "execution_count": 16,
     "metadata": {},
     "output_type": "execute_result"
    }
   ],
   "source": [
    "entity_df = pd.read_parquet(f\"{INPUT_DIR}/{ENTITY_TABLE}.parquet\")\n",
    "report_df = pd.read_parquet(f\"{INPUT_DIR}/{COMMUNITY_REPORT_TABLE}.parquet\")\n",
    "entity_embedding_df = pd.read_parquet(f\"{INPUT_DIR}/{ENTITY_EMBEDDING_TABLE}.parquet\")\n",
    "\n",
    "reports = read_indexer_reports(report_df, entity_df, COMMUNITY_LEVEL)\n",
    "entities = read_indexer_entities(entity_df, entity_embedding_df, COMMUNITY_LEVEL)\n",
    "print(f\"Report records: {len(report_df)}\")\n",
    "report_df.head()"
   ]
  },
  {
   "cell_type": "markdown",
   "metadata": {},
   "source": [
    "#### Build global context based on community reports"
   ]
  },
  {
   "cell_type": "code",
   "execution_count": 17,
   "metadata": {
    "ExecuteTime": {
     "end_time": "2024-07-12T10:21:53.096600Z",
     "start_time": "2024-07-12T10:21:53.094033Z"
    }
   },
   "outputs": [],
   "source": [
    "context_builder = GlobalCommunityContext(\n",
    "    community_reports=reports,\n",
    "    entities=entities,  # default to None if you don't want to use community weights for ranking\n",
    "    token_encoder=token_encoder,\n",
    ")"
   ]
  },
  {
   "cell_type": "markdown",
   "metadata": {},
   "source": [
    "#### Perform global search"
   ]
  },
  {
   "cell_type": "code",
   "execution_count": 18,
   "metadata": {
    "ExecuteTime": {
     "end_time": "2024-07-12T10:21:54.676965Z",
     "start_time": "2024-07-12T10:21:54.672317Z"
    }
   },
   "outputs": [],
   "source": [
    "context_builder_params = {\n",
    "    \"use_community_summary\": False,  # False means using full community reports. True means using community short summaries.\n",
    "    \"shuffle_data\": True,\n",
    "    \"include_community_rank\": True,\n",
    "    \"min_community_rank\": 0,\n",
    "    \"community_rank_name\": \"rank\",\n",
    "    \"include_community_weight\": True,\n",
    "    \"community_weight_name\": \"occurrence weight\",\n",
    "    \"normalize_community_weight\": True,\n",
    "    \"max_tokens\": 12_000,  # change this based on the token limit you have on your model (if you are using a model with 8k limit, a good setting could be 5000)\n",
    "    \"context_name\": \"Reports\",\n",
    "}\n",
    "\n",
    "map_llm_params = {\n",
    "    \"max_tokens\": 1000,\n",
    "    \"temperature\": 0.0,\n",
    "    \"response_format\": {\"type\": \"json_object\"},\n",
    "}\n",
    "\n",
    "reduce_llm_params = {\n",
    "    \"max_tokens\": 2000,  # change this based on the token limit you have on your model (if you are using a model with 8k limit, a good setting could be 1000-1500)\n",
    "    \"temperature\": 0.0,\n",
    "}"
   ]
  },
  {
   "cell_type": "code",
   "execution_count": 19,
   "metadata": {
    "ExecuteTime": {
     "end_time": "2024-07-12T10:21:55.954451Z",
     "start_time": "2024-07-12T10:21:55.946496Z"
    }
   },
   "outputs": [],
   "source": [
    "search_engine = GlobalSearch(\n",
    "    llm=llm,\n",
    "    context_builder=context_builder,\n",
    "    token_encoder=token_encoder,\n",
    "    max_data_tokens=12_000,  # change this based on the token limit you have on your model (if you are using a model with 8k limit, a good setting could be 5000)\n",
    "    map_llm_params=map_llm_params,\n",
    "    reduce_llm_params=reduce_llm_params,\n",
    "    allow_general_knowledge=False,  # set this to True will add instruction to encourage the LLM to incorporate general knowledge in the response, which may increase hallucinations, but could be useful in some use cases.\n",
    "    json_mode=True,  # set this to False if your LLM model does not support JSON mode.\n",
    "    context_builder_params=context_builder_params,\n",
    "    concurrent_coroutines=32,\n",
    "    response_type=\"multiple paragraphs\",  # free form text describing the response type and format, can be anything, e.g. prioritized list, single paragraph, multiple paragraphs, multiple-page report\n",
    ")"
   ]
  },
  {
   "cell_type": "code",
   "execution_count": 20,
   "metadata": {
    "ExecuteTime": {
     "end_time": "2024-07-12T10:22:28.936242Z",
     "start_time": "2024-07-12T10:22:09.287079Z"
    }
   },
   "outputs": [
    {
     "name": "stdout",
     "output_type": "stream",
     "text": [
      "### Engine Options and Performance\n",
      "\n",
      "#### Volkswagen Touareg\n",
      "\n",
      "The Volkswagen Touareg offers a diverse range of engine options, catering to various performance needs and preferences. The available engines include:\n",
      "\n",
      "- **3.0-litre V6 TDI Diesel Engines**: These engines come in different power outputs, such as 231hp and 286hp, providing robust performance and efficiency [Data: Reports (233, 237)].\n",
      "- **Plug-in Hybrid Engines**: The Touareg features advanced plug-in hybrid options, including a 381hp and a 462hp variant. The 462hp engine, particularly in the R Trim, combines a 3.0-litre combustion engine with an electric motor, delivering a total output of 462hp [Data: Reports (233, 235)].\n",
      "- **3.0-litre V6 Turbocharged Engine**: The 210TDI R-Line variant is powered by a 3.0L turbocharged V6 engine, producing 210kW and 600Nm of torque, ensuring a dynamic driving experience [Data: Reports (189, 191)].\n",
      "- **V8 Engine**: The Wolfsburg edition features a V8 engine that delivers 310kW of power and 900Nm of torque, allowing the vehicle to accelerate from 0-100km/h in just 4.9 seconds [Data: Reports (190)].\n",
      "\n",
      "All these engines are paired with an eight-speed automatic gearbox and all-wheel drive, ensuring smooth and efficient power delivery [Data: Reports (233, 235)].\n",
      "\n",
      "#### Subaru Outback\n",
      "\n",
      "The Subaru Outback also offers a variety of engine options, focusing on balanced performance and reliability:\n",
      "\n",
      "- **Six-Cylinder 'Boxer' Engine**: The 3.0R variant features a six-cylinder 'boxer' engine, enlarged to 3.0 litres. This engine produces 180kW of power and is designed for both bush and highway use, enhancing the vehicle's stability and handling due to its lower center of gravity [Data: Reports (295, 296, 299, 300)].\n",
      "- **2.0L Non-Turbo 4-Cylinder Engine**: This engine produces 115kW of power and 196Nm of torque, offering a balance between fuel efficiency and power delivery [Data: Reports (370)].\n",
      "- **2.5i Engine**: Available in specific trim levels such as the 2.5i Field and 2.5i Limited, this engine is paired with the Lineartronic transmission [Data: Reports (403)].\n",
      "\n",
      "The six-cylinder version is equipped with a five-speed automatic gearbox, ensuring efficient power transmission to all wheels, making it suitable for various driving conditions [Data: Reports (293)].\n",
      "\n",
      "### Key Differences\n",
      "\n",
      "1. **Engine Variety and Power**: The Volkswagen Touareg offers a wider range of engine options, including high-performance plug-in hybrids and a powerful V8 engine, whereas the Subaru Outback focuses on a more limited range of engines, with an emphasis on the six-cylinder 'boxer' engine for enhanced stability and handling [Data: Reports (233, 235, 295, 299)].\n",
      "\n",
      "2. **Transmission**: The Touareg's engines are paired with an eight-speed automatic gearbox, while the Outback's six-cylinder engine uses a five-speed automatic gearbox. This difference in transmission may affect the driving experience and efficiency [Data: Reports (233, 293)].\n",
      "\n",
      "3. **Performance and Towing Capacity**: The Touareg's engines, particularly the V8 and high-output hybrids, offer superior power and acceleration compared to the Outback. The Outback's six-cylinder engine, however, is designed to handle heavy loads and high temperatures, making it versatile for both off-road and highway use [Data: Reports (190, 299, 303)].\n",
      "\n",
      "In summary, the Volkswagen Touareg provides a broader and more powerful range of engine options, catering to high-performance needs, while the Subaru Outback focuses on balanced performance and reliability with its distinctive 'boxer' engine design.\n"
     ]
    }
   ],
   "source": [
    "result = await search_engine.asearch(\n",
    "    \"What's the difference between Subaru Outback and Volkswagen Touareg in terms of engine?\"\n",
    ")\n",
    "\n",
    "print(result.response)"
   ]
  },
  {
   "cell_type": "code",
   "execution_count": 21,
   "metadata": {
    "ExecuteTime": {
     "end_time": "2024-07-12T10:22:28.951493Z",
     "start_time": "2024-07-12T10:22:28.938158Z"
    }
   },
   "outputs": [
    {
     "data": {
      "text/plain": "      id                                              title  \\\n0    376                  Car Leasing and Electric Vehicles   \n1    372                 Subaru XV and Ford Puma Comparison   \n2    167                      Ford Puma ST-Line V Community   \n3    308                Audi A3 Assistance Package Features   \n4    369                          Subaru XV and AWD Systems   \n..   ...                                                ...   \n306  203               Peugeot 5008 Engine and Transmission   \n307  206                    5008 Crossway Interior Features   \n308   45  131HP 1.5-Litre Diesel Engine and Associated S...   \n309   28                  Puma and Leather Seats Preference   \n310  168             999CC Engine and Associated Components   \n\n     occurrence weight                                            content  \\\n0             0.361345  # Car Leasing and Electric Vehicles\\n\\nThe com...   \n1             0.235294  # Subaru XV and Ford Puma Comparison\\n\\nThe co...   \n2             0.159664  # Ford Puma ST-Line V Community\\n\\nThe communi...   \n3             0.067227  # Audi A3 Assistance Package Features\\n\\nThe c...   \n4             0.067227  # Subaru XV and AWD Systems\\n\\nThe community r...   \n..                 ...                                                ...   \n306           0.016807  # Peugeot 5008 Engine and Transmission\\n\\nThe ...   \n307           0.016807  # 5008 Crossway Interior Features\\n\\nThe commu...   \n308           0.008403  # 131HP 1.5-Litre Diesel Engine and Associated...   \n309           0.025210  # Puma and Leather Seats Preference\\n\\nThe com...   \n310           0.016807  # 999CC Engine and Associated Components\\n\\nTh...   \n\n     rank  \n0     7.5  \n1     7.5  \n2     7.5  \n3     7.5  \n4     7.5  \n..    ...  \n306   4.5  \n307   3.0  \n308   6.5  \n309   4.5  \n310   7.5  \n\n[311 rows x 5 columns]",
      "text/html": "<div>\n<style scoped>\n    .dataframe tbody tr th:only-of-type {\n        vertical-align: middle;\n    }\n\n    .dataframe tbody tr th {\n        vertical-align: top;\n    }\n\n    .dataframe thead th {\n        text-align: right;\n    }\n</style>\n<table border=\"1\" class=\"dataframe\">\n  <thead>\n    <tr style=\"text-align: right;\">\n      <th></th>\n      <th>id</th>\n      <th>title</th>\n      <th>occurrence weight</th>\n      <th>content</th>\n      <th>rank</th>\n    </tr>\n  </thead>\n  <tbody>\n    <tr>\n      <th>0</th>\n      <td>376</td>\n      <td>Car Leasing and Electric Vehicles</td>\n      <td>0.361345</td>\n      <td># Car Leasing and Electric Vehicles\\n\\nThe com...</td>\n      <td>7.5</td>\n    </tr>\n    <tr>\n      <th>1</th>\n      <td>372</td>\n      <td>Subaru XV and Ford Puma Comparison</td>\n      <td>0.235294</td>\n      <td># Subaru XV and Ford Puma Comparison\\n\\nThe co...</td>\n      <td>7.5</td>\n    </tr>\n    <tr>\n      <th>2</th>\n      <td>167</td>\n      <td>Ford Puma ST-Line V Community</td>\n      <td>0.159664</td>\n      <td># Ford Puma ST-Line V Community\\n\\nThe communi...</td>\n      <td>7.5</td>\n    </tr>\n    <tr>\n      <th>3</th>\n      <td>308</td>\n      <td>Audi A3 Assistance Package Features</td>\n      <td>0.067227</td>\n      <td># Audi A3 Assistance Package Features\\n\\nThe c...</td>\n      <td>7.5</td>\n    </tr>\n    <tr>\n      <th>4</th>\n      <td>369</td>\n      <td>Subaru XV and AWD Systems</td>\n      <td>0.067227</td>\n      <td># Subaru XV and AWD Systems\\n\\nThe community r...</td>\n      <td>7.5</td>\n    </tr>\n    <tr>\n      <th>...</th>\n      <td>...</td>\n      <td>...</td>\n      <td>...</td>\n      <td>...</td>\n      <td>...</td>\n    </tr>\n    <tr>\n      <th>306</th>\n      <td>203</td>\n      <td>Peugeot 5008 Engine and Transmission</td>\n      <td>0.016807</td>\n      <td># Peugeot 5008 Engine and Transmission\\n\\nThe ...</td>\n      <td>4.5</td>\n    </tr>\n    <tr>\n      <th>307</th>\n      <td>206</td>\n      <td>5008 Crossway Interior Features</td>\n      <td>0.016807</td>\n      <td># 5008 Crossway Interior Features\\n\\nThe commu...</td>\n      <td>3.0</td>\n    </tr>\n    <tr>\n      <th>308</th>\n      <td>45</td>\n      <td>131HP 1.5-Litre Diesel Engine and Associated S...</td>\n      <td>0.008403</td>\n      <td># 131HP 1.5-Litre Diesel Engine and Associated...</td>\n      <td>6.5</td>\n    </tr>\n    <tr>\n      <th>309</th>\n      <td>28</td>\n      <td>Puma and Leather Seats Preference</td>\n      <td>0.025210</td>\n      <td># Puma and Leather Seats Preference\\n\\nThe com...</td>\n      <td>4.5</td>\n    </tr>\n    <tr>\n      <th>310</th>\n      <td>168</td>\n      <td>999CC Engine and Associated Components</td>\n      <td>0.016807</td>\n      <td># 999CC Engine and Associated Components\\n\\nTh...</td>\n      <td>7.5</td>\n    </tr>\n  </tbody>\n</table>\n<p>311 rows × 5 columns</p>\n</div>"
     },
     "execution_count": 21,
     "metadata": {},
     "output_type": "execute_result"
    }
   ],
   "source": [
    "# inspect the data used to build the context for the LLM responses\n",
    "result.context_data[\"reports\"]"
   ]
  },
  {
   "cell_type": "code",
   "execution_count": 22,
   "metadata": {
    "ExecuteTime": {
     "end_time": "2024-07-12T10:22:28.954258Z",
     "start_time": "2024-07-12T10:22:28.952426Z"
    }
   },
   "outputs": [
    {
     "name": "stdout",
     "output_type": "stream",
     "text": [
      "LLM calls: 19. LLM tokens: 218212\n"
     ]
    }
   ],
   "source": [
    "# inspect number of LLM calls and tokens\n",
    "print(f\"LLM calls: {result.llm_calls}. LLM tokens: {result.prompt_tokens}\")"
   ]
  },
  {
   "cell_type": "code",
   "outputs": [],
   "source": [],
   "metadata": {
    "collapsed": false
   }
  }
 ],
 "metadata": {
  "kernelspec": {
   "display_name": "Python 3",
   "language": "python",
   "name": "python3"
  },
  "language_info": {
   "codemirror_mode": {
    "name": "ipython",
    "version": 3
   },
   "file_extension": ".py",
   "mimetype": "text/x-python",
   "name": "python",
   "nbconvert_exporter": "python",
   "pygments_lexer": "ipython3",
   "version": "3.10.12"
  }
 },
 "nbformat": 4,
 "nbformat_minor": 2
}
