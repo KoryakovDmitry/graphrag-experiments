{
 "cells": [
  {
   "cell_type": "code",
   "execution_count": 1,
   "metadata": {
    "ExecuteTime": {
     "end_time": "2024-07-12T09:39:34.983032Z",
     "start_time": "2024-07-12T09:39:34.980730Z"
    }
   },
   "outputs": [],
   "source": [
    "# Copyright (c) 2024 Microsoft Corporation.\n",
    "# Licensed under the MIT License."
   ]
  },
  {
   "cell_type": "code",
   "outputs": [
    {
     "data": {
      "text/plain": "True"
     },
     "execution_count": 15,
     "metadata": {},
     "output_type": "execute_result"
    }
   ],
   "source": [
    "from dotenv import load_dotenv\n",
    "load_dotenv()"
   ],
   "metadata": {
    "collapsed": false,
    "ExecuteTime": {
     "end_time": "2024-07-12T10:11:57.778599Z",
     "start_time": "2024-07-12T10:11:57.770678Z"
    }
   },
   "execution_count": 15
  },
  {
   "cell_type": "code",
   "execution_count": 2,
   "metadata": {
    "ExecuteTime": {
     "end_time": "2024-07-12T09:52:16.555987Z",
     "start_time": "2024-07-12T09:52:14.618892Z"
    }
   },
   "outputs": [],
   "source": [
    "import os\n",
    "\n",
    "import pandas as pd\n",
    "import tiktoken\n",
    "\n",
    "from graphrag.query.context_builder.entity_extraction import EntityVectorStoreKey\n",
    "from graphrag.query.indexer_adapters import (\n",
    "    read_indexer_covariates,\n",
    "    read_indexer_entities,\n",
    "    read_indexer_relationships,\n",
    "    read_indexer_reports,\n",
    "    read_indexer_text_units,\n",
    ")\n",
    "from graphrag.query.input.loaders.dfs import (\n",
    "    store_entity_semantic_embeddings,\n",
    ")\n",
    "from graphrag.query.llm.oai.chat_openai import ChatOpenAI\n",
    "from graphrag.query.llm.oai.embedding import OpenAIEmbedding\n",
    "from graphrag.query.llm.oai.typing import OpenaiApiType\n",
    "from graphrag.query.question_gen.local_gen import LocalQuestionGen\n",
    "from graphrag.query.structured_search.local_search.mixed_context import (\n",
    "    LocalSearchMixedContext,\n",
    ")\n",
    "from graphrag.query.structured_search.local_search.search import LocalSearch\n",
    "from graphrag.vector_stores.lancedb import LanceDBVectorStore"
   ]
  },
  {
   "cell_type": "markdown",
   "metadata": {},
   "source": [
    "## Local Search Example\n",
    "\n",
    "Local search method generates answers by combining relevant data from the AI-extracted knowledge-graph with text chunks of the raw documents. This method is suitable for questions that require an understanding of specific entities mentioned in the documents (e.g. What are the healing properties of chamomile?)."
   ]
  },
  {
   "cell_type": "markdown",
   "metadata": {},
   "source": [
    "### Load text units and graph data tables as context for local search\n",
    "\n",
    "- In this test we first load indexing outputs from parquet files to dataframes, then convert these dataframes into collections of data objects aligning with the knowledge model."
   ]
  },
  {
   "cell_type": "markdown",
   "metadata": {},
   "source": [
    "### Load tables to dataframes"
   ]
  },
  {
   "cell_type": "code",
   "execution_count": 36,
   "metadata": {
    "ExecuteTime": {
     "end_time": "2024-07-12T10:16:24.853670Z",
     "start_time": "2024-07-12T10:16:24.851770Z"
    }
   },
   "outputs": [],
   "source": [
    "# INPUT_DIR = \"./inputs/operation dulce\"\n",
    "INPUT_DIR = \"/Users/dmitrii.koriakov/PycharmProjects/graphrag-experiments/examples/my_workflow/output/20240712-120400/artifacts\"\n",
    "LANCEDB_URI = f\"{INPUT_DIR}/lancedb\"\n",
    "\n",
    "COMMUNITY_REPORT_TABLE = \"create_final_community_reports\"\n",
    "ENTITY_TABLE = \"create_final_nodes\"\n",
    "ENTITY_EMBEDDING_TABLE = \"create_final_entities\"\n",
    "RELATIONSHIP_TABLE = \"create_final_relationships\"\n",
    "COVARIATE_TABLE = \"create_final_covariates\"\n",
    "TEXT_UNIT_TABLE = \"create_final_text_units\"\n",
    "COMMUNITY_LEVEL = 2"
   ]
  },
  {
   "cell_type": "markdown",
   "metadata": {},
   "source": [
    "#### Read entities"
   ]
  },
  {
   "cell_type": "code",
   "execution_count": 37,
   "metadata": {
    "ExecuteTime": {
     "end_time": "2024-07-12T10:16:25.789720Z",
     "start_time": "2024-07-12T10:16:25.390855Z"
    }
   },
   "outputs": [
    {
     "name": "stdout",
     "output_type": "stream",
     "text": [
      "Entity count: 10880\n"
     ]
    },
    {
     "name": "stderr",
     "output_type": "stream",
     "text": [
      "[2024-07-12T10:16:25Z WARN  lance::dataset] No existing dataset at /Users/dmitrii.koriakov/PycharmProjects/graphrag-experiments/examples/my_workflow/output/20240712-120400/artifacts/lancedb/entity_description_embeddings.lance, it will be created\n"
     ]
    },
    {
     "data": {
      "text/plain": "   level           title           type  \\\n0      0       \"GENESIS\"         \"MAKE\"   \n1      0       \"HYUNDAI\"         \"MAKE\"   \n2      0           \"G70\"        \"MODEL\"   \n3      0       \"AUDI A4\"  \"COMPETITORS\"   \n4      0  \"BMW 3 SERIES\"  \"COMPETITORS\"   \n\n                                         description  \\\n0  Genesis is a South Korean luxury car manufactu...   \n1  Hyundai is a South Korean automotive manufactu...   \n2  The G70 is a compact to mid-size luxury sedan ...   \n3  The Audi A4 is a luxury sedan that is designed...   \n4  The BMW 3 Series is a car model available for ...   \n\n                                           source_id community  degree  \\\n0  01ad6d8a36157fa58f4456f80d6e64bf,01c2ee2aea1be...         6      52   \n1  01ad6d8a36157fa58f4456f80d6e64bf,0d73b2026356d...        12      17   \n2  01ad6d8a36157fa58f4456f80d6e64bf,16cb2d4c00809...         6     144   \n3  6f6c86039d73c994fa1b568f6f5b9523,95f758cc35225...         6       6   \n4  146293be50ca3017a2f87357bbaaad9f,17902ef252587...         6      10   \n\n   human_readable_id                                id  size graph_embedding  \\\n0                  0  b45241d70f0e43fca764df95b2b81f77    52            None   \n1                  1  4119fd06010c494caa07f439b333f4c5    17            None   \n2                  2  d3835bf3dda84ead99deadbeac5d0d7d   144            None   \n3                  3  077d2820ae1845bcbb1803379a3d1eae     6            None   \n4                  4  3671ea0dd4e84c1a9b02c5ab2c8f4bac    10            None   \n\n  entity_type                 top_level_node_id  x  y  \n0        None  b45241d70f0e43fca764df95b2b81f77  0  0  \n1        None  4119fd06010c494caa07f439b333f4c5  0  0  \n2        None  d3835bf3dda84ead99deadbeac5d0d7d  0  0  \n3        None  077d2820ae1845bcbb1803379a3d1eae  0  0  \n4        None  3671ea0dd4e84c1a9b02c5ab2c8f4bac  0  0  ",
      "text/html": "<div>\n<style scoped>\n    .dataframe tbody tr th:only-of-type {\n        vertical-align: middle;\n    }\n\n    .dataframe tbody tr th {\n        vertical-align: top;\n    }\n\n    .dataframe thead th {\n        text-align: right;\n    }\n</style>\n<table border=\"1\" class=\"dataframe\">\n  <thead>\n    <tr style=\"text-align: right;\">\n      <th></th>\n      <th>level</th>\n      <th>title</th>\n      <th>type</th>\n      <th>description</th>\n      <th>source_id</th>\n      <th>community</th>\n      <th>degree</th>\n      <th>human_readable_id</th>\n      <th>id</th>\n      <th>size</th>\n      <th>graph_embedding</th>\n      <th>entity_type</th>\n      <th>top_level_node_id</th>\n      <th>x</th>\n      <th>y</th>\n    </tr>\n  </thead>\n  <tbody>\n    <tr>\n      <th>0</th>\n      <td>0</td>\n      <td>\"GENESIS\"</td>\n      <td>\"MAKE\"</td>\n      <td>Genesis is a South Korean luxury car manufactu...</td>\n      <td>01ad6d8a36157fa58f4456f80d6e64bf,01c2ee2aea1be...</td>\n      <td>6</td>\n      <td>52</td>\n      <td>0</td>\n      <td>b45241d70f0e43fca764df95b2b81f77</td>\n      <td>52</td>\n      <td>None</td>\n      <td>None</td>\n      <td>b45241d70f0e43fca764df95b2b81f77</td>\n      <td>0</td>\n      <td>0</td>\n    </tr>\n    <tr>\n      <th>1</th>\n      <td>0</td>\n      <td>\"HYUNDAI\"</td>\n      <td>\"MAKE\"</td>\n      <td>Hyundai is a South Korean automotive manufactu...</td>\n      <td>01ad6d8a36157fa58f4456f80d6e64bf,0d73b2026356d...</td>\n      <td>12</td>\n      <td>17</td>\n      <td>1</td>\n      <td>4119fd06010c494caa07f439b333f4c5</td>\n      <td>17</td>\n      <td>None</td>\n      <td>None</td>\n      <td>4119fd06010c494caa07f439b333f4c5</td>\n      <td>0</td>\n      <td>0</td>\n    </tr>\n    <tr>\n      <th>2</th>\n      <td>0</td>\n      <td>\"G70\"</td>\n      <td>\"MODEL\"</td>\n      <td>The G70 is a compact to mid-size luxury sedan ...</td>\n      <td>01ad6d8a36157fa58f4456f80d6e64bf,16cb2d4c00809...</td>\n      <td>6</td>\n      <td>144</td>\n      <td>2</td>\n      <td>d3835bf3dda84ead99deadbeac5d0d7d</td>\n      <td>144</td>\n      <td>None</td>\n      <td>None</td>\n      <td>d3835bf3dda84ead99deadbeac5d0d7d</td>\n      <td>0</td>\n      <td>0</td>\n    </tr>\n    <tr>\n      <th>3</th>\n      <td>0</td>\n      <td>\"AUDI A4\"</td>\n      <td>\"COMPETITORS\"</td>\n      <td>The Audi A4 is a luxury sedan that is designed...</td>\n      <td>6f6c86039d73c994fa1b568f6f5b9523,95f758cc35225...</td>\n      <td>6</td>\n      <td>6</td>\n      <td>3</td>\n      <td>077d2820ae1845bcbb1803379a3d1eae</td>\n      <td>6</td>\n      <td>None</td>\n      <td>None</td>\n      <td>077d2820ae1845bcbb1803379a3d1eae</td>\n      <td>0</td>\n      <td>0</td>\n    </tr>\n    <tr>\n      <th>4</th>\n      <td>0</td>\n      <td>\"BMW 3 SERIES\"</td>\n      <td>\"COMPETITORS\"</td>\n      <td>The BMW 3 Series is a car model available for ...</td>\n      <td>146293be50ca3017a2f87357bbaaad9f,17902ef252587...</td>\n      <td>6</td>\n      <td>10</td>\n      <td>4</td>\n      <td>3671ea0dd4e84c1a9b02c5ab2c8f4bac</td>\n      <td>10</td>\n      <td>None</td>\n      <td>None</td>\n      <td>3671ea0dd4e84c1a9b02c5ab2c8f4bac</td>\n      <td>0</td>\n      <td>0</td>\n    </tr>\n  </tbody>\n</table>\n</div>"
     },
     "execution_count": 37,
     "metadata": {},
     "output_type": "execute_result"
    }
   ],
   "source": [
    "# read nodes table to get community and degree data\n",
    "entity_df = pd.read_parquet(f\"{INPUT_DIR}/{ENTITY_TABLE}.parquet\")\n",
    "entity_embedding_df = pd.read_parquet(f\"{INPUT_DIR}/{ENTITY_EMBEDDING_TABLE}.parquet\")\n",
    "\n",
    "entities = read_indexer_entities(entity_df, entity_embedding_df, COMMUNITY_LEVEL)\n",
    "\n",
    "# load description embeddings to an in-memory lancedb vectorstore\n",
    "# to connect to a remote db, specify url and port values.\n",
    "description_embedding_store = LanceDBVectorStore(\n",
    "    collection_name=\"entity_description_embeddings\",\n",
    ")\n",
    "description_embedding_store.connect(db_uri=LANCEDB_URI)\n",
    "entity_description_embeddings = store_entity_semantic_embeddings(\n",
    "    entities=entities, vectorstore=description_embedding_store\n",
    ")\n",
    "\n",
    "print(f\"Entity count: {len(entity_df)}\")\n",
    "entity_df.head()"
   ]
  },
  {
   "cell_type": "markdown",
   "metadata": {},
   "source": [
    "#### Read relationships"
   ]
  },
  {
   "cell_type": "code",
   "execution_count": 38,
   "metadata": {
    "ExecuteTime": {
     "end_time": "2024-07-12T10:16:28.549860Z",
     "start_time": "2024-07-12T10:16:28.427520Z"
    }
   },
   "outputs": [
    {
     "name": "stdout",
     "output_type": "stream",
     "text": [
      "Relationship count: 4174\n"
     ]
    },
    {
     "data": {
      "text/plain": "      source                 target  weight  \\\n0  \"GENESIS\"              \"HYUNDAI\"     6.0   \n1  \"GENESIS\"                  \"G70\"    16.0   \n2  \"GENESIS\"    \"ATHLETIC ELEGANCE\"     1.0   \n3  \"GENESIS\"       \"BASIC WARRANTY\"     1.0   \n4  \"GENESIS\"  \"ANCAP SAFETY RATING\"     1.0   \n\n                                         description  \\\n0  Genesis is a luxury car brand owned by Hyundai...   \n1  Genesis is the luxury vehicle division of Hyun...   \n2  \"Genesis refers to its current design directio...   \n3  \"Genesis offers a basic warranty of 5 years / ...   \n4  \"Genesis models have a high ANCAP Safety Ratin...   \n\n                                       text_unit_ids  \\\n0  [01ad6d8a36157fa58f4456f80d6e64bf, 1766edc6484...   \n1  [01ad6d8a36157fa58f4456f80d6e64bf, 32063379d11...   \n2                 [32063379d1142b4354fc32ec25f02642]   \n3                 [adab84211fb2e9f8a75fd9d02d323cc4]   \n4                 [adab84211fb2e9f8a75fd9d02d323cc4]   \n\n                                 id human_readable_id  source_degree  \\\n0  41799e2431614876a11fb872c387a65f                 0             52   \n1  8ccdda4685fc4a00bf2fa13c5d231375                 1             52   \n2  6e920d6be7354ed9b380b3bb7b433dff                 2             52   \n3  44619429a8ee49f5b646479a33089e02                 3             52   \n4  f14dc4a6b9af432d8cd5dfa297e7e867                 4             52   \n\n   target_degree  rank  \n0             17    69  \n1            144   196  \n2              2    54  \n3              7    59  \n4              9    61  ",
      "text/html": "<div>\n<style scoped>\n    .dataframe tbody tr th:only-of-type {\n        vertical-align: middle;\n    }\n\n    .dataframe tbody tr th {\n        vertical-align: top;\n    }\n\n    .dataframe thead th {\n        text-align: right;\n    }\n</style>\n<table border=\"1\" class=\"dataframe\">\n  <thead>\n    <tr style=\"text-align: right;\">\n      <th></th>\n      <th>source</th>\n      <th>target</th>\n      <th>weight</th>\n      <th>description</th>\n      <th>text_unit_ids</th>\n      <th>id</th>\n      <th>human_readable_id</th>\n      <th>source_degree</th>\n      <th>target_degree</th>\n      <th>rank</th>\n    </tr>\n  </thead>\n  <tbody>\n    <tr>\n      <th>0</th>\n      <td>\"GENESIS\"</td>\n      <td>\"HYUNDAI\"</td>\n      <td>6.0</td>\n      <td>Genesis is a luxury car brand owned by Hyundai...</td>\n      <td>[01ad6d8a36157fa58f4456f80d6e64bf, 1766edc6484...</td>\n      <td>41799e2431614876a11fb872c387a65f</td>\n      <td>0</td>\n      <td>52</td>\n      <td>17</td>\n      <td>69</td>\n    </tr>\n    <tr>\n      <th>1</th>\n      <td>\"GENESIS\"</td>\n      <td>\"G70\"</td>\n      <td>16.0</td>\n      <td>Genesis is the luxury vehicle division of Hyun...</td>\n      <td>[01ad6d8a36157fa58f4456f80d6e64bf, 32063379d11...</td>\n      <td>8ccdda4685fc4a00bf2fa13c5d231375</td>\n      <td>1</td>\n      <td>52</td>\n      <td>144</td>\n      <td>196</td>\n    </tr>\n    <tr>\n      <th>2</th>\n      <td>\"GENESIS\"</td>\n      <td>\"ATHLETIC ELEGANCE\"</td>\n      <td>1.0</td>\n      <td>\"Genesis refers to its current design directio...</td>\n      <td>[32063379d1142b4354fc32ec25f02642]</td>\n      <td>6e920d6be7354ed9b380b3bb7b433dff</td>\n      <td>2</td>\n      <td>52</td>\n      <td>2</td>\n      <td>54</td>\n    </tr>\n    <tr>\n      <th>3</th>\n      <td>\"GENESIS\"</td>\n      <td>\"BASIC WARRANTY\"</td>\n      <td>1.0</td>\n      <td>\"Genesis offers a basic warranty of 5 years / ...</td>\n      <td>[adab84211fb2e9f8a75fd9d02d323cc4]</td>\n      <td>44619429a8ee49f5b646479a33089e02</td>\n      <td>3</td>\n      <td>52</td>\n      <td>7</td>\n      <td>59</td>\n    </tr>\n    <tr>\n      <th>4</th>\n      <td>\"GENESIS\"</td>\n      <td>\"ANCAP SAFETY RATING\"</td>\n      <td>1.0</td>\n      <td>\"Genesis models have a high ANCAP Safety Ratin...</td>\n      <td>[adab84211fb2e9f8a75fd9d02d323cc4]</td>\n      <td>f14dc4a6b9af432d8cd5dfa297e7e867</td>\n      <td>4</td>\n      <td>52</td>\n      <td>9</td>\n      <td>61</td>\n    </tr>\n  </tbody>\n</table>\n</div>"
     },
     "execution_count": 38,
     "metadata": {},
     "output_type": "execute_result"
    }
   ],
   "source": [
    "relationship_df = pd.read_parquet(f\"{INPUT_DIR}/{RELATIONSHIP_TABLE}.parquet\")\n",
    "relationships = read_indexer_relationships(relationship_df)\n",
    "\n",
    "print(f\"Relationship count: {len(relationship_df)}\")\n",
    "relationship_df.head()"
   ]
  },
  {
   "cell_type": "code",
   "execution_count": 39,
   "metadata": {
    "ExecuteTime": {
     "end_time": "2024-07-12T10:16:28.977374Z",
     "start_time": "2024-07-12T10:16:28.941646Z"
    }
   },
   "outputs": [
    {
     "name": "stdout",
     "output_type": "stream",
     "text": [
      "Claim records: 817\n"
     ]
    }
   ],
   "source": [
    "covariate_df = pd.read_parquet(f\"{INPUT_DIR}/{COVARIATE_TABLE}.parquet\")\n",
    "\n",
    "claims = read_indexer_covariates(covariate_df)\n",
    "\n",
    "print(f\"Claim records: {len(claims)}\")\n",
    "covariates = {\"claims\": claims}"
   ]
  },
  {
   "cell_type": "markdown",
   "metadata": {},
   "source": [
    "#### Read community reports"
   ]
  },
  {
   "cell_type": "code",
   "execution_count": 40,
   "metadata": {
    "ExecuteTime": {
     "end_time": "2024-07-12T10:16:29.998818Z",
     "start_time": "2024-07-12T10:16:29.907922Z"
    }
   },
   "outputs": [
    {
     "name": "stdout",
     "output_type": "stream",
     "text": [
      "Report records: 435\n"
     ]
    },
    {
     "name": "stderr",
     "output_type": "stream",
     "text": [
      "/Users/dmitrii.koriakov/PycharmProjects/graphrag-experiments/graphrag/query/indexer_adapters.py:71: SettingWithCopyWarning: \n",
      "A value is trying to be set on a copy of a slice from a DataFrame.\n",
      "Try using .loc[row_indexer,col_indexer] = value instead\n",
      "\n",
      "See the caveats in the documentation: https://pandas.pydata.org/pandas-docs/stable/user_guide/indexing.html#returning-a-view-versus-a-copy\n",
      "  entity_df[\"community\"] = entity_df[\"community\"].fillna(-1)\n",
      "/Users/dmitrii.koriakov/PycharmProjects/graphrag-experiments/graphrag/query/indexer_adapters.py:72: SettingWithCopyWarning: \n",
      "A value is trying to be set on a copy of a slice from a DataFrame.\n",
      "Try using .loc[row_indexer,col_indexer] = value instead\n",
      "\n",
      "See the caveats in the documentation: https://pandas.pydata.org/pandas-docs/stable/user_guide/indexing.html#returning-a-view-versus-a-copy\n",
      "  entity_df[\"community\"] = entity_df[\"community\"].astype(int)\n"
     ]
    },
    {
     "data": {
      "text/plain": "  community                                       full_content  level  rank  \\\n0       406  # Ford Puma ST-Line V and Related Features\\n\\n...      3   7.5   \n1       407  # Ford Puma Features: Multimedia Interface and...      3   7.5   \n2       408  # Android Auto Integration in Various Car Mode...      3   7.5   \n3       409  # Apple CarPlay Integration in Various Car Mod...      3   7.5   \n4       410  # 10.0-Inch Multimedia Touchscreen System and ...      3   6.5   \n\n                                               title  \\\n0           Ford Puma ST-Line V and Related Features   \n1  Ford Puma Features: Multimedia Interface and W...   \n2     Android Auto Integration in Various Car Models   \n3    Apple CarPlay Integration in Various Car Models   \n4  10.0-Inch Multimedia Touchscreen System and Co...   \n\n                                    rank_explanation  \\\n0  The impact severity rating is high due to the ...   \n1  The impact severity rating is high due to the ...   \n2  The impact severity rating is high due to the ...   \n3  The impact severity rating is high due to the ...   \n4  The impact severity rating is moderate due to ...   \n\n                                             summary  \\\n0  The community revolves around the Ford Puma ST...   \n1  The community revolves around the Ford Puma, s...   \n2  The community revolves around the Android Auto...   \n3  The community revolves around the integration ...   \n4  The community revolves around the 10.0-inch mu...   \n\n                                            findings  \\\n0  [{'explanation': 'The ST-Line V is a higher tr...   \n1  [{'explanation': 'The Multimedia Interface is ...   \n2  [{'explanation': 'Android Auto is a feature th...   \n3  [{'explanation': 'Apple CarPlay is widely adop...   \n4  [{'explanation': 'The 10.0-inch multimedia tou...   \n\n                                   full_content_json  \\\n0  {\\n    \"title\": \"Ford Puma ST-Line V and Relat...   \n1  {\\n    \"title\": \"Ford Puma Features: Multimedi...   \n2  {\\n    \"title\": \"Android Auto Integration in V...   \n3  {\\n    \"title\": \"Apple CarPlay Integration in ...   \n4  {\\n    \"title\": \"10.0-Inch Multimedia Touchscr...   \n\n                                     id  \n0  694533a1-4279-42e7-8dfd-f3cc646ed8c3  \n1  1ace0aeb-ac84-48bf-af3a-c829eb60ce19  \n2  7e8f1ce0-97aa-455e-863e-7b2e3f90685d  \n3  fec229fd-8c69-4af8-9387-bdc310ba34a7  \n4  d564ea36-4230-4981-8775-e682d9475c3f  ",
      "text/html": "<div>\n<style scoped>\n    .dataframe tbody tr th:only-of-type {\n        vertical-align: middle;\n    }\n\n    .dataframe tbody tr th {\n        vertical-align: top;\n    }\n\n    .dataframe thead th {\n        text-align: right;\n    }\n</style>\n<table border=\"1\" class=\"dataframe\">\n  <thead>\n    <tr style=\"text-align: right;\">\n      <th></th>\n      <th>community</th>\n      <th>full_content</th>\n      <th>level</th>\n      <th>rank</th>\n      <th>title</th>\n      <th>rank_explanation</th>\n      <th>summary</th>\n      <th>findings</th>\n      <th>full_content_json</th>\n      <th>id</th>\n    </tr>\n  </thead>\n  <tbody>\n    <tr>\n      <th>0</th>\n      <td>406</td>\n      <td># Ford Puma ST-Line V and Related Features\\n\\n...</td>\n      <td>3</td>\n      <td>7.5</td>\n      <td>Ford Puma ST-Line V and Related Features</td>\n      <td>The impact severity rating is high due to the ...</td>\n      <td>The community revolves around the Ford Puma ST...</td>\n      <td>[{'explanation': 'The ST-Line V is a higher tr...</td>\n      <td>{\\n    \"title\": \"Ford Puma ST-Line V and Relat...</td>\n      <td>694533a1-4279-42e7-8dfd-f3cc646ed8c3</td>\n    </tr>\n    <tr>\n      <th>1</th>\n      <td>407</td>\n      <td># Ford Puma Features: Multimedia Interface and...</td>\n      <td>3</td>\n      <td>7.5</td>\n      <td>Ford Puma Features: Multimedia Interface and W...</td>\n      <td>The impact severity rating is high due to the ...</td>\n      <td>The community revolves around the Ford Puma, s...</td>\n      <td>[{'explanation': 'The Multimedia Interface is ...</td>\n      <td>{\\n    \"title\": \"Ford Puma Features: Multimedi...</td>\n      <td>1ace0aeb-ac84-48bf-af3a-c829eb60ce19</td>\n    </tr>\n    <tr>\n      <th>2</th>\n      <td>408</td>\n      <td># Android Auto Integration in Various Car Mode...</td>\n      <td>3</td>\n      <td>7.5</td>\n      <td>Android Auto Integration in Various Car Models</td>\n      <td>The impact severity rating is high due to the ...</td>\n      <td>The community revolves around the Android Auto...</td>\n      <td>[{'explanation': 'Android Auto is a feature th...</td>\n      <td>{\\n    \"title\": \"Android Auto Integration in V...</td>\n      <td>7e8f1ce0-97aa-455e-863e-7b2e3f90685d</td>\n    </tr>\n    <tr>\n      <th>3</th>\n      <td>409</td>\n      <td># Apple CarPlay Integration in Various Car Mod...</td>\n      <td>3</td>\n      <td>7.5</td>\n      <td>Apple CarPlay Integration in Various Car Models</td>\n      <td>The impact severity rating is high due to the ...</td>\n      <td>The community revolves around the integration ...</td>\n      <td>[{'explanation': 'Apple CarPlay is widely adop...</td>\n      <td>{\\n    \"title\": \"Apple CarPlay Integration in ...</td>\n      <td>fec229fd-8c69-4af8-9387-bdc310ba34a7</td>\n    </tr>\n    <tr>\n      <th>4</th>\n      <td>410</td>\n      <td># 10.0-Inch Multimedia Touchscreen System and ...</td>\n      <td>3</td>\n      <td>6.5</td>\n      <td>10.0-Inch Multimedia Touchscreen System and Co...</td>\n      <td>The impact severity rating is moderate due to ...</td>\n      <td>The community revolves around the 10.0-inch mu...</td>\n      <td>[{'explanation': 'The 10.0-inch multimedia tou...</td>\n      <td>{\\n    \"title\": \"10.0-Inch Multimedia Touchscr...</td>\n      <td>d564ea36-4230-4981-8775-e682d9475c3f</td>\n    </tr>\n  </tbody>\n</table>\n</div>"
     },
     "execution_count": 40,
     "metadata": {},
     "output_type": "execute_result"
    }
   ],
   "source": [
    "report_df = pd.read_parquet(f\"{INPUT_DIR}/{COMMUNITY_REPORT_TABLE}.parquet\")\n",
    "reports = read_indexer_reports(report_df, entity_df, COMMUNITY_LEVEL)\n",
    "\n",
    "print(f\"Report records: {len(report_df)}\")\n",
    "report_df.head()"
   ]
  },
  {
   "cell_type": "markdown",
   "metadata": {},
   "source": [
    "#### Read text units"
   ]
  },
  {
   "cell_type": "code",
   "execution_count": 41,
   "metadata": {
    "ExecuteTime": {
     "end_time": "2024-07-12T10:16:31.363747Z",
     "start_time": "2024-07-12T10:16:31.328813Z"
    }
   },
   "outputs": [
    {
     "name": "stdout",
     "output_type": "stream",
     "text": [
      "Text unit records: 562\n"
     ]
    },
    {
     "data": {
      "text/plain": "                                 id  \\\n0  cdf3d2bc4c5e252080ddb8c5d48cc284   \n1  88fb6c17255a79d791843585bf15dfde   \n2  32063379d1142b4354fc32ec25f02642   \n3  3acafe7d71a00e3a2bd38ad91bd83939   \n4  dd5541a69e188bd9af9e8eb8b98fc827   \n\n                                                text  n_tokens  \\\n0  After an early identity crisis where the name ...       300   \n1   auto-dimming chromic mirrors, a panorama glas...       300   \n2  ’ drive mode.  A ‘Sport Line Package’, is a $4...       300   \n3   tailgate, and 15-speaker Lexicon premium audi...       300   \n4   driver’s side only, on the 2.0T. This cabin f...       300   \n\n                             document_ids  \\\n0  [0135e552-0cb5-43ec-907b-12c5184f712e]   \n1  [0135e552-0cb5-43ec-907b-12c5184f712e]   \n2  [0135e552-0cb5-43ec-907b-12c5184f712e]   \n3  [0135e552-0cb5-43ec-907b-12c5184f712e]   \n4  [0135e552-0cb5-43ec-907b-12c5184f712e]   \n\n                                          entity_ids  \\\n0  [b45241d70f0e43fca764df95b2b81f77, 4119fd06010...   \n1  [1fd3fa8bb5a2408790042ab9573779ee, 27f9fbe6ad8...   \n2  [b45241d70f0e43fca764df95b2b81f77, d3835bf3dda...   \n3  [b45241d70f0e43fca764df95b2b81f77, d3835bf3dda...   \n4  [1fd3fa8bb5a2408790042ab9573779ee, de9e343f2e3...   \n\n                                    relationship_ids  \\\n0  [41799e2431614876a11fb872c387a65f, 8ccdda4685f...   \n1  [cbaacfc037da4de59487eff3439c6aa2, 8d97883230c...   \n2  [8ccdda4685fc4a00bf2fa13c5d231375, 6e920d6be73...   \n3  [8ccdda4685fc4a00bf2fa13c5d231375, 0e57f529f3b...   \n4  [4b194d02c6984348ad4f574999e1e84c, 45408394250...   \n\n                                       covariate_ids  \n0  [2a8e07c4-2acf-4b89-b91a-c05f87cd6cb6, 1ff36f0...  \n1             [135b0ddb-311b-4c26-85bd-0bc70fc1c03e]  \n2             [757314f1-0275-4e9f-9967-345ed2f262ba]  \n3             [8596d53a-62f4-4791-bfde-5867c9848284]  \n4             [c4c98116-b33d-404e-bab2-f8ecc7c55d3e]  ",
      "text/html": "<div>\n<style scoped>\n    .dataframe tbody tr th:only-of-type {\n        vertical-align: middle;\n    }\n\n    .dataframe tbody tr th {\n        vertical-align: top;\n    }\n\n    .dataframe thead th {\n        text-align: right;\n    }\n</style>\n<table border=\"1\" class=\"dataframe\">\n  <thead>\n    <tr style=\"text-align: right;\">\n      <th></th>\n      <th>id</th>\n      <th>text</th>\n      <th>n_tokens</th>\n      <th>document_ids</th>\n      <th>entity_ids</th>\n      <th>relationship_ids</th>\n      <th>covariate_ids</th>\n    </tr>\n  </thead>\n  <tbody>\n    <tr>\n      <th>0</th>\n      <td>cdf3d2bc4c5e252080ddb8c5d48cc284</td>\n      <td>After an early identity crisis where the name ...</td>\n      <td>300</td>\n      <td>[0135e552-0cb5-43ec-907b-12c5184f712e]</td>\n      <td>[b45241d70f0e43fca764df95b2b81f77, 4119fd06010...</td>\n      <td>[41799e2431614876a11fb872c387a65f, 8ccdda4685f...</td>\n      <td>[2a8e07c4-2acf-4b89-b91a-c05f87cd6cb6, 1ff36f0...</td>\n    </tr>\n    <tr>\n      <th>1</th>\n      <td>88fb6c17255a79d791843585bf15dfde</td>\n      <td>auto-dimming chromic mirrors, a panorama glas...</td>\n      <td>300</td>\n      <td>[0135e552-0cb5-43ec-907b-12c5184f712e]</td>\n      <td>[1fd3fa8bb5a2408790042ab9573779ee, 27f9fbe6ad8...</td>\n      <td>[cbaacfc037da4de59487eff3439c6aa2, 8d97883230c...</td>\n      <td>[135b0ddb-311b-4c26-85bd-0bc70fc1c03e]</td>\n    </tr>\n    <tr>\n      <th>2</th>\n      <td>32063379d1142b4354fc32ec25f02642</td>\n      <td>’ drive mode.  A ‘Sport Line Package’, is a $4...</td>\n      <td>300</td>\n      <td>[0135e552-0cb5-43ec-907b-12c5184f712e]</td>\n      <td>[b45241d70f0e43fca764df95b2b81f77, d3835bf3dda...</td>\n      <td>[8ccdda4685fc4a00bf2fa13c5d231375, 6e920d6be73...</td>\n      <td>[757314f1-0275-4e9f-9967-345ed2f262ba]</td>\n    </tr>\n    <tr>\n      <th>3</th>\n      <td>3acafe7d71a00e3a2bd38ad91bd83939</td>\n      <td>tailgate, and 15-speaker Lexicon premium audi...</td>\n      <td>300</td>\n      <td>[0135e552-0cb5-43ec-907b-12c5184f712e]</td>\n      <td>[b45241d70f0e43fca764df95b2b81f77, d3835bf3dda...</td>\n      <td>[8ccdda4685fc4a00bf2fa13c5d231375, 0e57f529f3b...</td>\n      <td>[8596d53a-62f4-4791-bfde-5867c9848284]</td>\n    </tr>\n    <tr>\n      <th>4</th>\n      <td>dd5541a69e188bd9af9e8eb8b98fc827</td>\n      <td>driver’s side only, on the 2.0T. This cabin f...</td>\n      <td>300</td>\n      <td>[0135e552-0cb5-43ec-907b-12c5184f712e]</td>\n      <td>[1fd3fa8bb5a2408790042ab9573779ee, de9e343f2e3...</td>\n      <td>[4b194d02c6984348ad4f574999e1e84c, 45408394250...</td>\n      <td>[c4c98116-b33d-404e-bab2-f8ecc7c55d3e]</td>\n    </tr>\n  </tbody>\n</table>\n</div>"
     },
     "execution_count": 41,
     "metadata": {},
     "output_type": "execute_result"
    }
   ],
   "source": [
    "text_unit_df = pd.read_parquet(f\"{INPUT_DIR}/{TEXT_UNIT_TABLE}.parquet\")\n",
    "text_units = read_indexer_text_units(text_unit_df)\n",
    "\n",
    "print(f\"Text unit records: {len(text_unit_df)}\")\n",
    "text_unit_df.head()"
   ]
  },
  {
   "cell_type": "code",
   "execution_count": 42,
   "metadata": {
    "ExecuteTime": {
     "end_time": "2024-07-12T10:16:32.059317Z",
     "start_time": "2024-07-12T10:16:32.003329Z"
    }
   },
   "outputs": [],
   "source": [
    "api_key = os.environ[\"OPENAI_API_KEY\"]\n",
    "llm_model = \"gpt-4o\"\n",
    "embedding_model = \"text-embedding-3-small\"\n",
    "\n",
    "llm = ChatOpenAI(\n",
    "    api_key=api_key,\n",
    "    model=llm_model,\n",
    "    api_type=OpenaiApiType.OpenAI,  # OpenaiApiType.OpenAI or OpenaiApiType.AzureOpenAI\n",
    "    max_retries=20,\n",
    ")\n",
    "\n",
    "token_encoder = tiktoken.get_encoding(\"cl100k_base\")\n",
    "\n",
    "text_embedder = OpenAIEmbedding(\n",
    "    api_key=api_key,\n",
    "    api_base=None,\n",
    "    api_type=OpenaiApiType.OpenAI,\n",
    "    model=embedding_model,\n",
    "    deployment_name=embedding_model,\n",
    "    max_retries=20,\n",
    ")"
   ]
  },
  {
   "cell_type": "markdown",
   "metadata": {},
   "source": [
    "### Create local search context builder"
   ]
  },
  {
   "cell_type": "code",
   "execution_count": 43,
   "metadata": {
    "ExecuteTime": {
     "end_time": "2024-07-12T10:16:36.412667Z",
     "start_time": "2024-07-12T10:16:36.407784Z"
    }
   },
   "outputs": [],
   "source": [
    "context_builder = LocalSearchMixedContext(\n",
    "    community_reports=reports,\n",
    "    text_units=text_units,\n",
    "    entities=entities,\n",
    "    relationships=relationships,\n",
    "    covariates=covariates,\n",
    "    entity_text_embeddings=description_embedding_store,\n",
    "    embedding_vectorstore_key=EntityVectorStoreKey.ID,  # if the vectorstore uses entity title as ids, set this to EntityVectorStoreKey.TITLE\n",
    "    text_embedder=text_embedder,\n",
    "    token_encoder=token_encoder,\n",
    ")"
   ]
  },
  {
   "cell_type": "markdown",
   "metadata": {},
   "source": [
    "### Create local search engine"
   ]
  },
  {
   "cell_type": "code",
   "execution_count": 44,
   "metadata": {
    "ExecuteTime": {
     "end_time": "2024-07-12T10:16:37.915392Z",
     "start_time": "2024-07-12T10:16:37.913077Z"
    }
   },
   "outputs": [],
   "source": [
    "# text_unit_prop: proportion of context window dedicated to related text units\n",
    "# community_prop: proportion of context window dedicated to community reports.\n",
    "# The remaining proportion is dedicated to entities and relationships. Sum of text_unit_prop and community_prop should be <= 1\n",
    "# conversation_history_max_turns: maximum number of turns to include in the conversation history.\n",
    "# conversation_history_user_turns_only: if True, only include user queries in the conversation history.\n",
    "# top_k_mapped_entities: number of related entities to retrieve from the entity description embedding store.\n",
    "# top_k_relationships: control the number of out-of-network relationships to pull into the context window.\n",
    "# include_entity_rank: if True, include the entity rank in the entity table in the context window. Default entity rank = node degree.\n",
    "# include_relationship_weight: if True, include the relationship weight in the context window.\n",
    "# include_community_rank: if True, include the community rank in the context window.\n",
    "# return_candidate_context: if True, return a set of dataframes containing all candidate entity/relationship/covariate records that\n",
    "# could be relevant. Note that not all of these records will be included in the context window. The \"in_context\" column in these\n",
    "# dataframes indicates whether the record is included in the context window.\n",
    "# max_tokens: maximum number of tokens to use for the context window.\n",
    "\n",
    "\n",
    "local_context_params = {\n",
    "    \"text_unit_prop\": 0.5,\n",
    "    \"community_prop\": 0.1,\n",
    "    \"conversation_history_max_turns\": 5,\n",
    "    \"conversation_history_user_turns_only\": True,\n",
    "    \"top_k_mapped_entities\": 10,\n",
    "    \"top_k_relationships\": 10,\n",
    "    \"include_entity_rank\": True,\n",
    "    \"include_relationship_weight\": True,\n",
    "    \"include_community_rank\": False,\n",
    "    \"return_candidate_context\": False,\n",
    "    \"embedding_vectorstore_key\": EntityVectorStoreKey.ID,  # set this to EntityVectorStoreKey.TITLE if the vectorstore uses entity title as ids\n",
    "    \"max_tokens\": 12_000,  # change this based on the token limit you have on your model (if you are using a model with 8k limit, a good setting could be 5000)\n",
    "}\n",
    "\n",
    "llm_params = {\n",
    "    \"max_tokens\": 2_000,  # change this based on the token limit you have on your model (if you are using a model with 8k limit, a good setting could be 1000=1500)\n",
    "    \"temperature\": 0.0,\n",
    "}"
   ]
  },
  {
   "cell_type": "code",
   "execution_count": 45,
   "metadata": {
    "ExecuteTime": {
     "end_time": "2024-07-12T10:16:38.856258Z",
     "start_time": "2024-07-12T10:16:38.854010Z"
    }
   },
   "outputs": [],
   "source": [
    "search_engine = LocalSearch(\n",
    "    llm=llm,\n",
    "    context_builder=context_builder,\n",
    "    token_encoder=token_encoder,\n",
    "    llm_params=llm_params,\n",
    "    context_builder_params=local_context_params,\n",
    "    response_type=\"multiple paragraphs\",  # free form text describing the response type and format, can be anything, e.g. prioritized list, single paragraph, multiple paragraphs, multiple-page report\n",
    ")"
   ]
  },
  {
   "cell_type": "markdown",
   "metadata": {},
   "source": [
    "### Run local search on sample queries"
   ]
  },
  {
   "cell_type": "code",
   "execution_count": 46,
   "metadata": {
    "ExecuteTime": {
     "end_time": "2024-07-12T10:20:19.063578Z",
     "start_time": "2024-07-12T10:20:05.948334Z"
    }
   },
   "outputs": [
    {
     "name": "stdout",
     "output_type": "stream",
     "text": [
      "### Engine Comparison: Subaru Outback vs. Volkswagen Touareg\n",
      "\n",
      "#### Subaru Outback\n",
      "\n",
      "The Subaru Outback offers two main engine options. The first is a 2.5-litre petrol engine, which is described as smooth and punchy, providing a decent amount of power for everyday driving [Data: Entities (2602)]. The second option is a 2.0-litre diesel engine, which is quieter and more suited for long motorway journeys, although it doesn't match the fuel economy of similar units in other cars [Data: Entities (2603); Sources (489)]. The Outback's engines are designed to offer a balance between performance and practicality, but they have been noted to cause the engine to drone loudly when accelerating hard, particularly with the automatic gearbox [Data: Entities (2596); Sources (489)].\n",
      "\n",
      "#### Volkswagen Touareg\n",
      "\n",
      "The Volkswagen Touareg, on the other hand, provides a broader range of engine options, including five different choices. One of the notable engines is the 3.0-litre six-cylinder TDI engine, which produces 190kW at 4000rpm and 600Nm at 2250rpm, ensuring smooth and powerful performance [Data: Entities (1038)]. Another option is the 231hp 3.0-litre diesel engine, a turbocharged V6 known for its power and quiet operation [Data: Entities (2645)]. Additionally, the Touareg offers a high-performance V8 engine in the Wolfsburg edition, delivering 310kW of power and 900Nm of torque, allowing the vehicle to accelerate from 0-100km/h in just 4.9 seconds [Data: Entities (2165)]. The Touareg also includes a hybrid engine option, available in both the Elegance and R trims, which enhances the vehicle's overall performance and contributes to its higher price [Data: Entities (2655)].\n",
      "\n",
      "#### Performance and Driving Experience\n",
      "\n",
      "In terms of driving experience, the Touareg's engines are designed to provide a more luxurious and powerful performance compared to the Outback. The Touareg's engines, particularly the V6 and V8 options, offer substantial power and torque, making it suitable for towing heavy loads and providing a dynamic driving experience [Data: Entities (764, 767)]. The hybrid engine option also adds to the versatility of the Touareg, catering to those who prefer a more eco-friendly driving option [Data: Entities (2655)].\n",
      "\n",
      "In contrast, the Subaru Outback's engines focus more on practicality and everyday usability. While the Outback's engines are adequate for most driving conditions, they do not offer the same level of power and performance as the Touareg's engines. The Outback is better suited for those who prioritize fuel efficiency and a quieter ride on long journeys [Data: Entities (2603); Sources (489)].\n",
      "\n",
      "#### Conclusion\n",
      "\n",
      "Overall, the Volkswagen Touareg offers a more diverse and powerful range of engine options compared to the Subaru Outback. The Touareg's engines are designed to provide a high level of performance, luxury, and versatility, making it a more suitable choice for those seeking a premium driving experience. On the other hand, the Subaru Outback's engines are geared towards practicality and efficiency, making it a better option for everyday use and long-distance travel [Data: Entities (764, 1038, 2165, 2655); Sources (489)].\n"
     ]
    }
   ],
   "source": [
    "result = await search_engine.asearch(\"What's the difference between Subaru Outback and Volkswagen Touareg in terms of engine?\")\n",
    "print(result.response)"
   ]
  },
  {
   "cell_type": "markdown",
   "metadata": {},
   "source": [
    "#### Inspecting the context data used to generate the response"
   ]
  },
  {
   "cell_type": "code",
   "execution_count": 47,
   "metadata": {
    "ExecuteTime": {
     "end_time": "2024-07-12T10:20:48.265751Z",
     "start_time": "2024-07-12T10:20:48.260127Z"
    }
   },
   "outputs": [
    {
     "data": {
      "text/plain": "     id               entity  \\\n0  2596  \"AUTOMATIC GEARBOX\"   \n1  2517     \"ENGINE OPTIONS\"   \n2  2599            \"BUMPERS\"   \n3  2601          \"VW TIGUAN\"   \n4   764            \"TOUAREG\"   \n\n                                         description number of relationships  \\\n0  The Automatic Gearbox in the Volkswagen Touare...                       4   \n1  The Peugeot 5008 and the VW Touareg offer a ra...                       3   \n2  The Subaru Outback features rugged protective ...                       3   \n3  \"The VW Tiguan is a competitor to the Subaru O...                       1   \n4  The Touareg is a model of SUV produced by Volk...                     212   \n\n   in_context  \n0        True  \n1        True  \n2        True  \n3        True  \n4        True  ",
      "text/html": "<div>\n<style scoped>\n    .dataframe tbody tr th:only-of-type {\n        vertical-align: middle;\n    }\n\n    .dataframe tbody tr th {\n        vertical-align: top;\n    }\n\n    .dataframe thead th {\n        text-align: right;\n    }\n</style>\n<table border=\"1\" class=\"dataframe\">\n  <thead>\n    <tr style=\"text-align: right;\">\n      <th></th>\n      <th>id</th>\n      <th>entity</th>\n      <th>description</th>\n      <th>number of relationships</th>\n      <th>in_context</th>\n    </tr>\n  </thead>\n  <tbody>\n    <tr>\n      <th>0</th>\n      <td>2596</td>\n      <td>\"AUTOMATIC GEARBOX\"</td>\n      <td>The Automatic Gearbox in the Volkswagen Touare...</td>\n      <td>4</td>\n      <td>True</td>\n    </tr>\n    <tr>\n      <th>1</th>\n      <td>2517</td>\n      <td>\"ENGINE OPTIONS\"</td>\n      <td>The Peugeot 5008 and the VW Touareg offer a ra...</td>\n      <td>3</td>\n      <td>True</td>\n    </tr>\n    <tr>\n      <th>2</th>\n      <td>2599</td>\n      <td>\"BUMPERS\"</td>\n      <td>The Subaru Outback features rugged protective ...</td>\n      <td>3</td>\n      <td>True</td>\n    </tr>\n    <tr>\n      <th>3</th>\n      <td>2601</td>\n      <td>\"VW TIGUAN\"</td>\n      <td>\"The VW Tiguan is a competitor to the Subaru O...</td>\n      <td>1</td>\n      <td>True</td>\n    </tr>\n    <tr>\n      <th>4</th>\n      <td>764</td>\n      <td>\"TOUAREG\"</td>\n      <td>The Touareg is a model of SUV produced by Volk...</td>\n      <td>212</td>\n      <td>True</td>\n    </tr>\n  </tbody>\n</table>\n</div>"
     },
     "execution_count": 47,
     "metadata": {},
     "output_type": "execute_result"
    }
   ],
   "source": [
    "result.context_data[\"entities\"].head()"
   ]
  },
  {
   "cell_type": "code",
   "execution_count": 48,
   "metadata": {
    "ExecuteTime": {
     "end_time": "2024-07-12T10:20:49.253766Z",
     "start_time": "2024-07-12T10:20:49.246024Z"
    }
   },
   "outputs": [
    {
     "data": {
      "text/plain": "     id            source               target  \\\n0  2953  \"SUBARU OUTBACK\"  \"AUTOMATIC GEARBOX\"   \n1  2957  \"SUBARU OUTBACK\"            \"BUMPERS\"   \n2  2959  \"SUBARU OUTBACK\"          \"VW TIGUAN\"   \n3  2527         \"TOUAREG\"  \"AUTOMATIC GEARBOX\"   \n4  2519         \"TOUAREG\"            \"BUMPERS\"   \n\n                                         description weight rank links  \\\n0  The Subaru Outback is equipped with a standard...    2.0   49     3   \n1  \"The Subaru Outback comes with rugged protecti...    1.0   48     3   \n2  \"The Subaru Outback is compared to the VW Tigu...    1.0   46     3   \n3  \"The Touareg comes with an automatic gearbox t...    1.0  216     2   \n4  \"The bumpers of the Touareg were updated as pa...    1.0  215     2   \n\n   in_context  \n0        True  \n1        True  \n2        True  \n3        True  \n4        True  ",
      "text/html": "<div>\n<style scoped>\n    .dataframe tbody tr th:only-of-type {\n        vertical-align: middle;\n    }\n\n    .dataframe tbody tr th {\n        vertical-align: top;\n    }\n\n    .dataframe thead th {\n        text-align: right;\n    }\n</style>\n<table border=\"1\" class=\"dataframe\">\n  <thead>\n    <tr style=\"text-align: right;\">\n      <th></th>\n      <th>id</th>\n      <th>source</th>\n      <th>target</th>\n      <th>description</th>\n      <th>weight</th>\n      <th>rank</th>\n      <th>links</th>\n      <th>in_context</th>\n    </tr>\n  </thead>\n  <tbody>\n    <tr>\n      <th>0</th>\n      <td>2953</td>\n      <td>\"SUBARU OUTBACK\"</td>\n      <td>\"AUTOMATIC GEARBOX\"</td>\n      <td>The Subaru Outback is equipped with a standard...</td>\n      <td>2.0</td>\n      <td>49</td>\n      <td>3</td>\n      <td>True</td>\n    </tr>\n    <tr>\n      <th>1</th>\n      <td>2957</td>\n      <td>\"SUBARU OUTBACK\"</td>\n      <td>\"BUMPERS\"</td>\n      <td>\"The Subaru Outback comes with rugged protecti...</td>\n      <td>1.0</td>\n      <td>48</td>\n      <td>3</td>\n      <td>True</td>\n    </tr>\n    <tr>\n      <th>2</th>\n      <td>2959</td>\n      <td>\"SUBARU OUTBACK\"</td>\n      <td>\"VW TIGUAN\"</td>\n      <td>\"The Subaru Outback is compared to the VW Tigu...</td>\n      <td>1.0</td>\n      <td>46</td>\n      <td>3</td>\n      <td>True</td>\n    </tr>\n    <tr>\n      <th>3</th>\n      <td>2527</td>\n      <td>\"TOUAREG\"</td>\n      <td>\"AUTOMATIC GEARBOX\"</td>\n      <td>\"The Touareg comes with an automatic gearbox t...</td>\n      <td>1.0</td>\n      <td>216</td>\n      <td>2</td>\n      <td>True</td>\n    </tr>\n    <tr>\n      <th>4</th>\n      <td>2519</td>\n      <td>\"TOUAREG\"</td>\n      <td>\"BUMPERS\"</td>\n      <td>\"The bumpers of the Touareg were updated as pa...</td>\n      <td>1.0</td>\n      <td>215</td>\n      <td>2</td>\n      <td>True</td>\n    </tr>\n  </tbody>\n</table>\n</div>"
     },
     "execution_count": 48,
     "metadata": {},
     "output_type": "execute_result"
    }
   ],
   "source": [
    "result.context_data[\"relationships\"].head()"
   ]
  },
  {
   "cell_type": "code",
   "execution_count": 49,
   "metadata": {
    "ExecuteTime": {
     "end_time": "2024-07-12T10:20:49.981312Z",
     "start_time": "2024-07-12T10:20:49.978042Z"
    }
   },
   "outputs": [
    {
     "data": {
      "text/plain": "    id                               title  \\\n0  395  Volkswagen Touareg and Competitors   \n\n                                             content  \n0  # Volkswagen Touareg and Competitors\\n\\nThe co...  ",
      "text/html": "<div>\n<style scoped>\n    .dataframe tbody tr th:only-of-type {\n        vertical-align: middle;\n    }\n\n    .dataframe tbody tr th {\n        vertical-align: top;\n    }\n\n    .dataframe thead th {\n        text-align: right;\n    }\n</style>\n<table border=\"1\" class=\"dataframe\">\n  <thead>\n    <tr style=\"text-align: right;\">\n      <th></th>\n      <th>id</th>\n      <th>title</th>\n      <th>content</th>\n    </tr>\n  </thead>\n  <tbody>\n    <tr>\n      <th>0</th>\n      <td>395</td>\n      <td>Volkswagen Touareg and Competitors</td>\n      <td># Volkswagen Touareg and Competitors\\n\\nThe co...</td>\n    </tr>\n  </tbody>\n</table>\n</div>"
     },
     "execution_count": 49,
     "metadata": {},
     "output_type": "execute_result"
    }
   ],
   "source": [
    "result.context_data[\"reports\"].head()"
   ]
  },
  {
   "cell_type": "code",
   "execution_count": 50,
   "metadata": {
    "ExecuteTime": {
     "end_time": "2024-07-12T10:21:01.499980Z",
     "start_time": "2024-07-12T10:21:01.494853Z"
    }
   },
   "outputs": [
    {
     "data": {
      "text/plain": "    id                                               text\n0  527   what’s behind\\nyou when reversing better than...\n1  523   view out and the light steering makes squeezi...\n2  489   the boot – and the Subaru Outback\\nbecomes on...\n3  486  wow saving £2,715 off RRP\\n\\nCarwow price from...\n4  522   not just spacious in the back seats, because ...",
      "text/html": "<div>\n<style scoped>\n    .dataframe tbody tr th:only-of-type {\n        vertical-align: middle;\n    }\n\n    .dataframe tbody tr th {\n        vertical-align: top;\n    }\n\n    .dataframe thead th {\n        text-align: right;\n    }\n</style>\n<table border=\"1\" class=\"dataframe\">\n  <thead>\n    <tr style=\"text-align: right;\">\n      <th></th>\n      <th>id</th>\n      <th>text</th>\n    </tr>\n  </thead>\n  <tbody>\n    <tr>\n      <th>0</th>\n      <td>527</td>\n      <td>what’s behind\\nyou when reversing better than...</td>\n    </tr>\n    <tr>\n      <th>1</th>\n      <td>523</td>\n      <td>view out and the light steering makes squeezi...</td>\n    </tr>\n    <tr>\n      <th>2</th>\n      <td>489</td>\n      <td>the boot – and the Subaru Outback\\nbecomes on...</td>\n    </tr>\n    <tr>\n      <th>3</th>\n      <td>486</td>\n      <td>wow saving £2,715 off RRP\\n\\nCarwow price from...</td>\n    </tr>\n    <tr>\n      <th>4</th>\n      <td>522</td>\n      <td>not just spacious in the back seats, because ...</td>\n    </tr>\n  </tbody>\n</table>\n</div>"
     },
     "execution_count": 50,
     "metadata": {},
     "output_type": "execute_result"
    }
   ],
   "source": [
    "result.context_data[\"sources\"].head()"
   ]
  },
  {
   "cell_type": "code",
   "execution_count": 51,
   "metadata": {
    "ExecuteTime": {
     "end_time": "2024-07-12T10:21:02.771280Z",
     "start_time": "2024-07-12T10:21:02.768069Z"
    }
   },
   "outputs": [
    {
     "name": "stdout",
     "output_type": "stream",
     "text": [
      "Empty DataFrame\n",
      "Columns: [in_context]\n",
      "Index: []\n"
     ]
    }
   ],
   "source": [
    "if \"claims\" in result.context_data:\n",
    "    print(result.context_data[\"claims\"].head())"
   ]
  },
  {
   "cell_type": "markdown",
   "metadata": {},
   "source": [
    "### Question Generation"
   ]
  },
  {
   "cell_type": "markdown",
   "metadata": {},
   "source": [
    "This function takes a list of user queries and generates the next candidate questions."
   ]
  },
  {
   "cell_type": "code",
   "execution_count": 52,
   "metadata": {
    "ExecuteTime": {
     "end_time": "2024-07-12T10:21:18.811847Z",
     "start_time": "2024-07-12T10:21:18.805112Z"
    }
   },
   "outputs": [],
   "source": [
    "question_generator = LocalQuestionGen(\n",
    "    llm=llm,\n",
    "    context_builder=context_builder,\n",
    "    token_encoder=token_encoder,\n",
    "    llm_params=llm_params,\n",
    "    context_builder_params=local_context_params,\n",
    ")"
   ]
  },
  {
   "cell_type": "code",
   "execution_count": 53,
   "metadata": {
    "ExecuteTime": {
     "end_time": "2024-07-12T10:21:21.976565Z",
     "start_time": "2024-07-12T10:21:19.566922Z"
    }
   },
   "outputs": [
    {
     "name": "stdout",
     "output_type": "stream",
     "text": [
      "['- How does the Volkswagen Touareg compare to the BMW X5 in terms of driving experience?', \"- What are the key features of the Volkswagen Touareg's automatic gearbox?\", '- What engine options are available for the Volkswagen Touareg?', \"- How does the four-wheel steering feature enhance the Volkswagen Touareg's maneuverability?\", '- What role does Carwow play in the Volkswagen Touareg community?']\n"
     ]
    }
   ],
   "source": [
    "question_history = [\n",
    "    \"What's the difference between Subaru Outback and Volkswagen Touareg in terms of engine?\",\n",
    "]\n",
    "candidate_questions = await question_generator.agenerate(\n",
    "    question_history=question_history, context_data=None, question_count=5\n",
    ")\n",
    "print(candidate_questions.response)"
   ]
  },
  {
   "cell_type": "code",
   "outputs": [],
   "source": [],
   "metadata": {
    "collapsed": false,
    "ExecuteTime": {
     "end_time": "2024-07-12T10:12:40.639536Z",
     "start_time": "2024-07-12T10:12:40.638183Z"
    }
   },
   "execution_count": 33
  },
  {
   "cell_type": "code",
   "outputs": [],
   "source": [],
   "metadata": {
    "collapsed": false
   }
  }
 ],
 "metadata": {
  "kernelspec": {
   "display_name": "Python 3",
   "language": "python",
   "name": "python3"
  },
  "language_info": {
   "codemirror_mode": {
    "name": "ipython",
    "version": 3
   },
   "file_extension": ".py",
   "mimetype": "text/x-python",
   "name": "python",
   "nbconvert_exporter": "python",
   "pygments_lexer": "ipython3",
   "version": "3.10.12"
  }
 },
 "nbformat": 4,
 "nbformat_minor": 2
}
